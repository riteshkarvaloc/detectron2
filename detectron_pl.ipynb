{
 "cells": [
  {
   "cell_type": "code",
   "execution_count": null,
   "metadata": {},
   "outputs": [],
   "source": [
    "import sys\n",
    "!{sys.executable} -m pip install kfp >/dev/null"
   ]
  },
  {
   "cell_type": "code",
   "execution_count": null,
   "metadata": {},
   "outputs": [],
   "source": [
    "import os\n",
    "import json\n",
    "import kfp\n",
    "import kfp.dsl as dsl\n",
    "import kfp.compiler as compiler\n",
    "from kubernetes import client as k8s_client"
   ]
  },
  {
   "cell_type": "code",
   "execution_count": null,
   "metadata": {},
   "outputs": [],
   "source": [
    "dkube_training_op           = kfp.components.load_component_from_url(\"https://raw.githubusercontent.com/oneconvergence/dkube-examples/citiustech/components/training/component.yaml\")\n",
    "dkube_serving_op            = kfp.components.load_component_from_url(\"https://raw.githubusercontent.com/oneconvergence/dkube-examples/citiustech/components/serving/component.yaml\")"
   ]
  },
  {
   "cell_type": "code",
   "execution_count": null,
   "metadata": {},
   "outputs": [],
   "source": [
    "image = \"ocdr/detectron2:gpu\"\n",
    "serving_image = \"nvcr.io/nvidia/tritonserver:20.06-py3\"\n",
    "dataset = 'baloon'\n",
    "training_program = 'detectron2'\n",
    "model = 'detectron2'\n",
    "training_script = \"python training.py\"\n",
    "training_gpus = 1\n",
    "user = os.getenv('USERNAME')\n",
    "framework = \"custom\"\n",
    "output_mount_point = \"/opt/dkube/output/\"\n",
    "input_mount_point = \"/opt/dkube/input/\""
   ]
  },
  {
   "cell_type": "code",
   "execution_count": null,
   "metadata": {},
   "outputs": [],
   "source": [
    "@kfp.dsl.pipeline(\n",
    "    name='dkube-detectron-pl',\n",
    "    description='sample detectron example pipeline'\n",
    ")\n",
    "def detectron_pipeline(token):\n",
    "\n",
    "    train       = dkube_training_op(token, json.dumps({\"image\": image}),\n",
    "                                    framework=framework, version=f_version,\n",
    "                                    program=training_program, run_script=training_script,\n",
    "                                    datasets=json.dumps([dataset]), outputs=json.dumps([model]),\n",
    "                                    input_dataset_mounts=json.dumps([input_mount_point]),\n",
    "                                    ngpus=training_gpus,\n",
    "                                    output_mounts=json.dumps([output_mount_point]))\n",
    "\n",
    "    serving     = dkube_serving_op(token, train.outputs['artifact'], device='cpu', \n",
    "                                    serving_image=json.dumps({\"image\": serving_image}),\n",
    "                                    transformer_image=json.dumps({\"image\": image}),\n",
    "                                    transformer_project=training_program).after(train)"
   ]
  },
  {
   "cell_type": "markdown",
   "metadata": {},
   "source": [
    "# Create a run"
   ]
  },
  {
   "cell_type": "code",
   "execution_count": null,
   "metadata": {},
   "outputs": [],
   "source": [
    "existing_token = os.getenv(\"DKUBE_USER_ACCESS_TOKEN\")\n",
    "client = kfp.Client(existing_token=existing_token)\n",
    "client.create_run_from_pipeline_func(detectron_pipeline, arguments={\"token\":existing_token})"
   ]
  },
  {
   "cell_type": "markdown",
   "metadata": {},
   "source": [
    "# Compile and generate tar ball"
   ]
  },
  {
   "cell_type": "code",
   "execution_count": null,
   "metadata": {},
   "outputs": [],
   "source": [
    "compiler.Compiler().compile(detectron_pipeline, 'dkube_detectron_pl.tar.gz')"
   ]
  },
  {
   "cell_type": "markdown",
   "metadata": {},
   "source": [
    "# Upload pipeline"
   ]
  },
  {
   "cell_type": "code",
   "execution_count": null,
   "metadata": {},
   "outputs": [],
   "source": [
    "client = kfp.Client(existing_token=existing_token)\n",
    "try:\n",
    "    client.upload_pipeline(pipeline_package_path = 'dkube_detectron_pl.tar.gz', pipeline_name = 'Detectron pipeline', description = None)\n",
    "except BaseException as e:\n",
    "    print(e)"
   ]
  }
 ],
 "metadata": {
  "kernelspec": {
   "display_name": "Python 3",
   "language": "python",
   "name": "python3"
  },
  "language_info": {
   "codemirror_mode": {
    "name": "ipython",
    "version": 3
   },
   "file_extension": ".py",
   "mimetype": "text/x-python",
   "name": "python",
   "nbconvert_exporter": "python",
   "pygments_lexer": "ipython3",
   "version": "3.6.9"
  }
 },
 "nbformat": 4,
 "nbformat_minor": 4
}
